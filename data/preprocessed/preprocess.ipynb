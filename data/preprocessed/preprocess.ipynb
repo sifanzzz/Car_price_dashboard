{
 "cells": [
  {
   "cell_type": "code",
   "execution_count": 6,
   "id": "003b954c-b280-42ec-b19d-e946fee58f36",
   "metadata": {},
   "outputs": [],
   "source": [
    "import pandas as pd\n",
    "import numpy as np\n",
    "from sklearn.impute import KNNImputer\n",
    "from sklearn.impute import SimpleImputer"
   ]
  },
  {
   "cell_type": "markdown",
   "id": "1b3e99d2-7d3c-47e0-94ba-4fe53a50b084",
   "metadata": {},
   "source": [
    "# Read in data"
   ]
  },
  {
   "cell_type": "code",
   "execution_count": 7,
   "id": "fa1134c9-04f9-47ec-87d5-b01f2cdc6796",
   "metadata": {},
   "outputs": [
    {
     "data": {
      "text/html": [
       "<div>\n",
       "<style scoped>\n",
       "    .dataframe tbody tr th:only-of-type {\n",
       "        vertical-align: middle;\n",
       "    }\n",
       "\n",
       "    .dataframe tbody tr th {\n",
       "        vertical-align: top;\n",
       "    }\n",
       "\n",
       "    .dataframe thead th {\n",
       "        text-align: right;\n",
       "    }\n",
       "</style>\n",
       "<table border=\"1\" class=\"dataframe\">\n",
       "  <thead>\n",
       "    <tr style=\"text-align: right;\">\n",
       "      <th></th>\n",
       "      <th>Brand</th>\n",
       "      <th>Year</th>\n",
       "      <th>Model</th>\n",
       "      <th>Car/Suv</th>\n",
       "      <th>Title</th>\n",
       "      <th>UsedOrNew</th>\n",
       "      <th>Transmission</th>\n",
       "      <th>Engine</th>\n",
       "      <th>DriveType</th>\n",
       "      <th>FuelType</th>\n",
       "      <th>FuelConsumption</th>\n",
       "      <th>Kilometres</th>\n",
       "      <th>ColourExtInt</th>\n",
       "      <th>Location</th>\n",
       "      <th>CylindersinEngine</th>\n",
       "      <th>BodyType</th>\n",
       "      <th>Doors</th>\n",
       "      <th>Seats</th>\n",
       "      <th>Price</th>\n",
       "    </tr>\n",
       "  </thead>\n",
       "  <tbody>\n",
       "    <tr>\n",
       "      <th>0</th>\n",
       "      <td>Ssangyong</td>\n",
       "      <td>2022.0</td>\n",
       "      <td>Rexton</td>\n",
       "      <td>Sutherland Isuzu Ute</td>\n",
       "      <td>2022 Ssangyong Rexton Ultimate (awd)</td>\n",
       "      <td>DEMO</td>\n",
       "      <td>Automatic</td>\n",
       "      <td>4 cyl, 2.2 L</td>\n",
       "      <td>AWD</td>\n",
       "      <td>Diesel</td>\n",
       "      <td>8.7 L / 100 km</td>\n",
       "      <td>5595</td>\n",
       "      <td>White / Black</td>\n",
       "      <td>Caringbah, NSW</td>\n",
       "      <td>4 cyl</td>\n",
       "      <td>SUV</td>\n",
       "      <td>4 Doors</td>\n",
       "      <td>7 Seats</td>\n",
       "      <td>51990</td>\n",
       "    </tr>\n",
       "    <tr>\n",
       "      <th>1</th>\n",
       "      <td>MG</td>\n",
       "      <td>2022.0</td>\n",
       "      <td>MG3</td>\n",
       "      <td>Hatchback</td>\n",
       "      <td>2022 MG MG3 Auto Excite (with Navigation)</td>\n",
       "      <td>USED</td>\n",
       "      <td>Automatic</td>\n",
       "      <td>4 cyl, 1.5 L</td>\n",
       "      <td>Front</td>\n",
       "      <td>Premium</td>\n",
       "      <td>6.7 L / 100 km</td>\n",
       "      <td>16</td>\n",
       "      <td>Black / Black</td>\n",
       "      <td>Brookvale, NSW</td>\n",
       "      <td>4 cyl</td>\n",
       "      <td>Hatchback</td>\n",
       "      <td>5 Doors</td>\n",
       "      <td>5 Seats</td>\n",
       "      <td>19990</td>\n",
       "    </tr>\n",
       "    <tr>\n",
       "      <th>2</th>\n",
       "      <td>BMW</td>\n",
       "      <td>2022.0</td>\n",
       "      <td>430I</td>\n",
       "      <td>Coupe</td>\n",
       "      <td>2022 BMW 430I M Sport</td>\n",
       "      <td>USED</td>\n",
       "      <td>Automatic</td>\n",
       "      <td>4 cyl, 2 L</td>\n",
       "      <td>Rear</td>\n",
       "      <td>Premium</td>\n",
       "      <td>6.6 L / 100 km</td>\n",
       "      <td>8472</td>\n",
       "      <td>Grey / White</td>\n",
       "      <td>Sylvania, NSW</td>\n",
       "      <td>4 cyl</td>\n",
       "      <td>Coupe</td>\n",
       "      <td>2 Doors</td>\n",
       "      <td>4 Seats</td>\n",
       "      <td>108988</td>\n",
       "    </tr>\n",
       "    <tr>\n",
       "      <th>3</th>\n",
       "      <td>Mercedes-Benz</td>\n",
       "      <td>2011.0</td>\n",
       "      <td>E500</td>\n",
       "      <td>Coupe</td>\n",
       "      <td>2011 Mercedes-Benz E500 Elegance</td>\n",
       "      <td>USED</td>\n",
       "      <td>Automatic</td>\n",
       "      <td>8 cyl, 5.5 L</td>\n",
       "      <td>Rear</td>\n",
       "      <td>Premium</td>\n",
       "      <td>11 L / 100 km</td>\n",
       "      <td>136517</td>\n",
       "      <td>White / Brown</td>\n",
       "      <td>Mount Druitt, NSW</td>\n",
       "      <td>8 cyl</td>\n",
       "      <td>Coupe</td>\n",
       "      <td>2 Doors</td>\n",
       "      <td>4 Seats</td>\n",
       "      <td>32990</td>\n",
       "    </tr>\n",
       "    <tr>\n",
       "      <th>4</th>\n",
       "      <td>Renault</td>\n",
       "      <td>2022.0</td>\n",
       "      <td>Arkana</td>\n",
       "      <td>SUV</td>\n",
       "      <td>2022 Renault Arkana Intens</td>\n",
       "      <td>USED</td>\n",
       "      <td>Automatic</td>\n",
       "      <td>4 cyl, 1.3 L</td>\n",
       "      <td>Front</td>\n",
       "      <td>Unleaded</td>\n",
       "      <td>6 L / 100 km</td>\n",
       "      <td>1035</td>\n",
       "      <td>Grey / Black</td>\n",
       "      <td>Castle Hill, NSW</td>\n",
       "      <td>4 cyl</td>\n",
       "      <td>SUV</td>\n",
       "      <td>4 Doors</td>\n",
       "      <td>5 Seats</td>\n",
       "      <td>34990</td>\n",
       "    </tr>\n",
       "  </tbody>\n",
       "</table>\n",
       "</div>"
      ],
      "text/plain": [
       "           Brand    Year   Model               Car/Suv  \\\n",
       "0      Ssangyong  2022.0  Rexton  Sutherland Isuzu Ute   \n",
       "1             MG  2022.0     MG3             Hatchback   \n",
       "2            BMW  2022.0    430I                 Coupe   \n",
       "3  Mercedes-Benz  2011.0    E500                 Coupe   \n",
       "4        Renault  2022.0  Arkana                   SUV   \n",
       "\n",
       "                                       Title UsedOrNew Transmission  \\\n",
       "0       2022 Ssangyong Rexton Ultimate (awd)      DEMO    Automatic   \n",
       "1  2022 MG MG3 Auto Excite (with Navigation)      USED    Automatic   \n",
       "2                      2022 BMW 430I M Sport      USED    Automatic   \n",
       "3           2011 Mercedes-Benz E500 Elegance      USED    Automatic   \n",
       "4                 2022 Renault Arkana Intens      USED    Automatic   \n",
       "\n",
       "         Engine DriveType  FuelType FuelConsumption Kilometres   ColourExtInt  \\\n",
       "0  4 cyl, 2.2 L       AWD    Diesel  8.7 L / 100 km       5595  White / Black   \n",
       "1  4 cyl, 1.5 L     Front   Premium  6.7 L / 100 km         16  Black / Black   \n",
       "2    4 cyl, 2 L      Rear   Premium  6.6 L / 100 km       8472   Grey / White   \n",
       "3  8 cyl, 5.5 L      Rear   Premium   11 L / 100 km     136517  White / Brown   \n",
       "4  4 cyl, 1.3 L     Front  Unleaded    6 L / 100 km       1035   Grey / Black   \n",
       "\n",
       "            Location CylindersinEngine   BodyType     Doors     Seats   Price  \n",
       "0     Caringbah, NSW             4 cyl        SUV   4 Doors   7 Seats   51990  \n",
       "1     Brookvale, NSW             4 cyl  Hatchback   5 Doors   5 Seats   19990  \n",
       "2      Sylvania, NSW             4 cyl      Coupe   2 Doors   4 Seats  108988  \n",
       "3  Mount Druitt, NSW             8 cyl      Coupe   2 Doors   4 Seats   32990  \n",
       "4   Castle Hill, NSW             4 cyl        SUV   4 Doors   5 Seats   34990  "
      ]
     },
     "execution_count": 7,
     "metadata": {},
     "output_type": "execute_result"
    }
   ],
   "source": [
    "df = pd.read_csv('Australian Vehicle Prices.csv')\n",
    "\n",
    "df.head()"
   ]
  },
  {
   "cell_type": "code",
   "execution_count": 8,
   "id": "f8f42f7e-696e-4697-b911-120d499635c1",
   "metadata": {},
   "outputs": [
    {
     "name": "stdout",
     "output_type": "stream",
     "text": [
      "<class 'pandas.core.frame.DataFrame'>\n",
      "RangeIndex: 16734 entries, 0 to 16733\n",
      "Data columns (total 19 columns):\n",
      " #   Column             Non-Null Count  Dtype  \n",
      "---  ------             --------------  -----  \n",
      " 0   Brand              16733 non-null  object \n",
      " 1   Year               16733 non-null  float64\n",
      " 2   Model              16733 non-null  object \n",
      " 3   Car/Suv            16706 non-null  object \n",
      " 4   Title              16733 non-null  object \n",
      " 5   UsedOrNew          16733 non-null  object \n",
      " 6   Transmission       16733 non-null  object \n",
      " 7   Engine             16733 non-null  object \n",
      " 8   DriveType          16733 non-null  object \n",
      " 9   FuelType           16733 non-null  object \n",
      " 10  FuelConsumption    16733 non-null  object \n",
      " 11  Kilometres         16733 non-null  object \n",
      " 12  ColourExtInt       16733 non-null  object \n",
      " 13  Location           16284 non-null  object \n",
      " 14  CylindersinEngine  16733 non-null  object \n",
      " 15  BodyType           16452 non-null  object \n",
      " 16  Doors              15130 non-null  object \n",
      " 17  Seats              15029 non-null  object \n",
      " 18  Price              16731 non-null  object \n",
      "dtypes: float64(1), object(18)\n",
      "memory usage: 2.4+ MB\n"
     ]
    }
   ],
   "source": [
    "df.info()"
   ]
  },
  {
   "cell_type": "markdown",
   "id": "2b9730ab",
   "metadata": {},
   "source": [
    "From the above, we have some thoughts on columns that needs to be dealt with.\n",
    "\n",
    "`Car/Suv`: Nan values \\\n",
    "`Engine`: Separate the data to two columns, `Engine_cylinder_number` and `Engine_total_volume` \\\n",
    "`FuelConsumption`: Separate the `FuelConsumption` to `fuel_comsumption_liter` and `fuel_comsumption_km` \\\n",
    "`ColourExtInt`: Keep only the Exterior colour and saved it to column `ExteriorColour`\\\n",
    "`Doors`: Only keep the numbers\\\n",
    "`Seats`: Only keep the numbers\n",
    "\n",
    "Also, after careful consideration, we decided that columns `Car/Suv`,`Title`, `Model`,`Location`,`Location` are not useful for this project and thus could be drop at this moment.\n"
   ]
  },
  {
   "cell_type": "markdown",
   "id": "e82063ad-28dc-461e-8e44-db456c760b38",
   "metadata": {},
   "source": [
    "# Preprocess the data"
   ]
  },
  {
   "cell_type": "code",
   "execution_count": 9,
   "id": "0439e336-1c1b-4818-a7ef-b19a62920d80",
   "metadata": {},
   "outputs": [],
   "source": [
    "# Separate the `Engine column` to 'Engine_cylinder_number' and 'Engine_total_volume' \n",
    "df[['Engine_cylinder_number', 'Engine_total_volume']] = df['Engine'].str.split(',', expand=True)"
   ]
  },
  {
   "cell_type": "code",
   "execution_count": 10,
   "id": "630c6a9f",
   "metadata": {},
   "outputs": [],
   "source": [
    "# Clean values for `Engine_cylinder_number` and `Engine_total_volume` columns\n",
    "df['Engine_cylinder_number'] = df['Engine_cylinder_number'].str.replace('cyl', '').str.replace('0 L', '').str.replace('2 L', '').str.replace('-', '')\n",
    "df['Engine_total_volume'] = df['Engine_total_volume'].str.replace('L', '')\n",
    "df = df.fillna(np.nan)"
   ]
  },
  {
   "cell_type": "code",
   "execution_count": 11,
   "id": "687c3e10-59d7-4014-874a-cab2f69dda18",
   "metadata": {},
   "outputs": [
    {
     "data": {
      "text/plain": [
       "ExteriorColour\n",
       "White         5988\n",
       "Silver        2316\n",
       "Grey          2262\n",
       "Black         1937\n",
       "Blue          1577\n",
       "Red           1130\n",
       "-              395\n",
       "5 years        269\n",
       "Green          154\n",
       "Gold           146\n",
       "Brown          143\n",
       "Orange         109\n",
       "3 years         96\n",
       "Yellow          87\n",
       "6 years         31\n",
       "7 years         25\n",
       "2 years         13\n",
       "4 years         11\n",
       "Beige           10\n",
       "Burgundy         9\n",
       "Purple           9\n",
       "Bronze           8\n",
       "1 years          4\n",
       "Turquoise        1\n",
       "Other            1\n",
       "Pink             1\n",
       "Cream            1\n",
       "Name: count, dtype: int64"
      ]
     },
     "execution_count": 11,
     "metadata": {},
     "output_type": "execute_result"
    }
   ],
   "source": [
    "# Change ColourExtInt to only ExteriorColour\n",
    "df['ExteriorColour'] = df['ColourExtInt'].str.split('/').str[0]\n",
    "df['ExteriorColour'].value_counts()"
   ]
  },
  {
   "cell_type": "markdown",
   "id": "8bc6137b",
   "metadata": {},
   "source": [
    "Somehow the column \"ExteriorColour\" contains some \"years\" and \"-\" data, which doesn't make sense, so we will set these data to \"Other\"."
   ]
  },
  {
   "cell_type": "code",
   "execution_count": 12,
   "id": "0057ba79",
   "metadata": {},
   "outputs": [],
   "source": [
    "# Clean values for `ExteriorColour` column\n",
    "df.loc[df['ExteriorColour'].str.contains(\"years\", na=False), 'ExteriorColour'] = \"Other\"\n",
    "df['ExteriorColour'] = df['ExteriorColour'].str.replace('-', 'Other')"
   ]
  },
  {
   "cell_type": "code",
   "execution_count": 13,
   "id": "47423721-c57e-461b-a1f9-38e8707ca572",
   "metadata": {},
   "outputs": [],
   "source": [
    "# Separate the `FuelConsumption` to `fuel_comsumption_liter` and `fuel_comsumption_km` \n",
    "df[['fuel_comsumption_liter', 'fuel_comsumption_km']] = df['FuelConsumption'].str.split('/', expand=True)"
   ]
  },
  {
   "cell_type": "code",
   "execution_count": 14,
   "id": "5b2de172-5379-477c-9d6b-8f890b40bca5",
   "metadata": {},
   "outputs": [
    {
     "name": "stderr",
     "output_type": "stream",
     "text": [
      "/var/folders/89/pl7dtx5s7d5cxy3kdg0fs8nr0000gn/T/ipykernel_92458/1755362811.py:3: FutureWarning: A value is trying to be set on a copy of a DataFrame or Series through chained assignment using an inplace method.\n",
      "The behavior will change in pandas 3.0. This inplace method will never work because the intermediate object on which we are setting values always behaves as a copy.\n",
      "\n",
      "For example, when doing 'df[col].method(value, inplace=True)', try using 'df.method({col: value}, inplace=True)' or df[col] = df[col].method(value) instead, to perform the operation inplace on the original object.\n",
      "\n",
      "\n",
      "  df['Kilometres'].replace('', np.nan, inplace=True)\n"
     ]
    }
   ],
   "source": [
    "# Clean values for `kilometers` column\n",
    "df['Kilometres'] = df['Kilometres'].str.replace('-', '').str.replace('/', '').str.replace(' ', '')\n",
    "df['Kilometres'].replace('', np.nan, inplace=True)\n",
    "df['Kilometres'] = df['Kilometres'].astype(float)"
   ]
  },
  {
   "cell_type": "code",
   "execution_count": 15,
   "id": "8caa9f0b-23f6-4725-9e77-3e2736733b10",
   "metadata": {},
   "outputs": [
    {
     "name": "stderr",
     "output_type": "stream",
     "text": [
      "/var/folders/89/pl7dtx5s7d5cxy3kdg0fs8nr0000gn/T/ipykernel_92458/2254621160.py:2: FutureWarning: A value is trying to be set on a copy of a DataFrame or Series through chained assignment using an inplace method.\n",
      "The behavior will change in pandas 3.0. This inplace method will never work because the intermediate object on which we are setting values always behaves as a copy.\n",
      "\n",
      "For example, when doing 'df[col].method(value, inplace=True)', try using 'df.method({col: value}, inplace=True)' or df[col] = df[col].method(value) instead, to perform the operation inplace on the original object.\n",
      "\n",
      "\n",
      "  df['Price'].replace('POA','', inplace=True)\n"
     ]
    }
   ],
   "source": [
    "# Clean values for `price` column\n",
    "df['Price'].replace('POA','', inplace=True)\n",
    "df = df.replace('', np.nan)\n",
    "df['Price'] = df['Price'].astype(float)"
   ]
  },
  {
   "cell_type": "code",
   "execution_count": 16,
   "id": "b77996d7-2526-43cf-b844-c886055b62eb",
   "metadata": {},
   "outputs": [
    {
     "name": "stderr",
     "output_type": "stream",
     "text": [
      "/var/folders/89/pl7dtx5s7d5cxy3kdg0fs8nr0000gn/T/ipykernel_92458/573411092.py:2: FutureWarning: A value is trying to be set on a copy of a DataFrame or Series through chained assignment using an inplace method.\n",
      "The behavior will change in pandas 3.0. This inplace method will never work because the intermediate object on which we are setting values always behaves as a copy.\n",
      "\n",
      "For example, when doing 'df[col].method(value, inplace=True)', try using 'df.method({col: value}, inplace=True)' or df[col] = df[col].method(value) instead, to perform the operation inplace on the original object.\n",
      "\n",
      "\n",
      "  df['Transmission'].replace('-','', inplace=True)\n"
     ]
    }
   ],
   "source": [
    "# Clean `Transmission` column\n",
    "df['Transmission'].replace('-','', inplace=True)\n",
    "df = df.replace('', np.nan)"
   ]
  },
  {
   "cell_type": "code",
   "execution_count": 17,
   "id": "1876703d-a95b-483a-8ea4-d4c4b40b4d38",
   "metadata": {},
   "outputs": [],
   "source": [
    "# Clean `Year` column\n",
    "df['Year'] = df['Year'].astype(str).str[:4]\n",
    "df = df.replace('nan', np.nan)\n",
    "df['Year'] = pd.to_numeric(df['Year'], errors='coerce')"
   ]
  },
  {
   "cell_type": "code",
   "execution_count": 18,
   "id": "f3aecd6c",
   "metadata": {},
   "outputs": [
    {
     "data": {
      "text/plain": [
       "Doors\n",
       "4 Doors     11191\n",
       "5 Doors      2533\n",
       "2 Doors      1122\n",
       "3 Doors       213\n",
       "5 Seats        22\n",
       "2 Seats        10\n",
       "6 Seats         9\n",
       "7 Seats         8\n",
       "8 Seats         8\n",
       "3 Seats         6\n",
       "9 Seats         4\n",
       "4 Seats         3\n",
       "12 Seats        1\n",
       "Name: count, dtype: int64"
      ]
     },
     "execution_count": 18,
     "metadata": {},
     "output_type": "execute_result"
    }
   ],
   "source": [
    "df['Doors'].value_counts()"
   ]
  },
  {
   "cell_type": "markdown",
   "id": "268dab14",
   "metadata": {},
   "source": [
    "We found that in the column \"Doors\", some data contains \"Seats\", which is misplaced here and should be move to the \"Seats\" column."
   ]
  },
  {
   "cell_type": "code",
   "execution_count": 19,
   "id": "9eb5933d-6b22-408f-9eb6-3c9df3e396ee",
   "metadata": {},
   "outputs": [
    {
     "data": {
      "text/plain": [
       "Doors\n",
       "4     11191\n",
       "5      2533\n",
       "2      1122\n",
       "3       213\n",
       "Name: count, dtype: int64"
      ]
     },
     "execution_count": 19,
     "metadata": {},
     "output_type": "execute_result"
    }
   ],
   "source": [
    "# Clean values for Doors column\n",
    "df['Doors'] = df['Doors'].str.replace('Doors', '')\n",
    "\n",
    "for index, row in df.iterrows():\n",
    "    # Check if the \"Doors\" column contains \"Seats\"\n",
    "    if 'Seats' in str(row['Doors']):\n",
    "        # Move to \"Seats\" column\n",
    "        df.at[index, 'Seats'] = row['Doors']\n",
    "        # Clear the \"Doors\" column for this row\n",
    "        df.at[index, 'Doors'] = np.nan  # Set to None or an appropriate value\n",
    "\n",
    "# Display unique values in the \"Doors\" column after the operation\n",
    "df['Doors'].value_counts()\n"
   ]
  },
  {
   "cell_type": "markdown",
   "id": "995c4c4f",
   "metadata": {},
   "source": [
    "Now that we move those misplaced data, let's check on the \"Seats\" column."
   ]
  },
  {
   "cell_type": "code",
   "execution_count": 20,
   "id": "50e0d26f-fc5e-475b-b390-e19b68447146",
   "metadata": {},
   "outputs": [],
   "source": [
    "# Clean values for `Seats` column \n",
    "df['Seats'] = df['Seats'].str.replace('Seats', '')\n"
   ]
  },
  {
   "cell_type": "code",
   "execution_count": 21,
   "id": "f4a3833f-1c59-4a55-8dfd-30a06c9d107a",
   "metadata": {},
   "outputs": [],
   "source": [
    "# Clean values for `Body` column\n",
    "df['BodyType'] = df['BodyType'].str.replace('/', '')"
   ]
  },
  {
   "cell_type": "code",
   "execution_count": 22,
   "id": "473036d8-85f9-4abc-80cd-10ee5d2c70c7",
   "metadata": {},
   "outputs": [
    {
     "data": {
      "text/plain": [
       "array([' 100 km', None], dtype=object)"
      ]
     },
     "execution_count": 22,
     "metadata": {},
     "output_type": "execute_result"
    }
   ],
   "source": [
    "df['fuel_comsumption_km'].unique()"
   ]
  },
  {
   "cell_type": "code",
   "execution_count": 23,
   "id": "0a29dd2b-78e9-4a6e-8aa5-a6e216703529",
   "metadata": {},
   "outputs": [],
   "source": [
    "# Clean values for `fuel_comsumption_liter` and `fuel_comsumption_km` columns\n",
    "df['fuel_comsumption_liter'] = df['fuel_comsumption_liter'].str.replace('L', '')\n",
    "df['fuel_comsumption_km'] = df['fuel_comsumption_km'].str.replace('km', '')\n",
    "df['fuel_comsumption_liter'] = df['fuel_comsumption_liter'].str.replace('-', '')\n",
    "df = df.replace('', np.nan)\n",
    "df['fuel_comsumption_liter'] = df['fuel_comsumption_liter'].astype(float)\n",
    "df['fuel_comsumption_km'] = df['fuel_comsumption_km'].astype(float)"
   ]
  },
  {
   "cell_type": "code",
   "execution_count": 24,
   "id": "1f838978-789d-4102-b02b-fe83ff3db44c",
   "metadata": {},
   "outputs": [
    {
     "data": {
      "text/plain": [
       "array(['Diesel', 'Premium', 'Unleaded', 'Hybrid', '-', 'Other',\n",
       "       'Electric', 'LPG', 'Leaded', nan], dtype=object)"
      ]
     },
     "execution_count": 24,
     "metadata": {},
     "output_type": "execute_result"
    }
   ],
   "source": [
    "df['FuelType'].unique()"
   ]
  },
  {
   "cell_type": "code",
   "execution_count": 25,
   "id": "5c278194-1739-4e16-8135-914a18aeee8b",
   "metadata": {},
   "outputs": [],
   "source": [
    "# Clean values for 'FuelType' column\n",
    "df['FuelType'] = df['FuelType'].str.replace('-', 'Other')"
   ]
  },
  {
   "cell_type": "markdown",
   "id": "78d2e878-f5f5-4110-81d9-aad3ecabcc9e",
   "metadata": {},
   "source": [
    "# Drop columns"
   ]
  },
  {
   "cell_type": "code",
   "execution_count": 26,
   "id": "4bd877a8-ecaf-44a5-81bb-3c1490dda6d9",
   "metadata": {},
   "outputs": [],
   "source": [
    "drop_columns = ['Car/Suv', # Not useful\n",
    "                'Title', # Not useful\n",
    "                'Model', # Not useful\n",
    "                'Location', # Not useful\n",
    "                'Engine', # Seprated to 'Engine_cylinder_number' and 'Engine_total_volume'\n",
    "                'FuelConsumption',  # Changed to `fuel_comsumption_liter_per100km`\n",
    "                'ColourExtInt', # Changed to `ExteriorColour`\n",
    "                'Location', # Not useful\n",
    "                'CylindersinEngine', # Duplicated with `Engine_cylinder_number`  \n",
    "]"
   ]
  },
  {
   "cell_type": "code",
   "execution_count": 27,
   "id": "f9c5c70b-68cc-4c66-99de-4ec2b44afc13",
   "metadata": {},
   "outputs": [],
   "source": [
    "# Drop the columns from the DataFrame\n",
    "df.drop(columns=drop_columns, inplace=True)"
   ]
  },
  {
   "cell_type": "code",
   "execution_count": 28,
   "id": "b3d585dc-d253-4710-a429-2917c022cb43",
   "metadata": {},
   "outputs": [
    {
     "data": {
      "text/html": [
       "<div>\n",
       "<style scoped>\n",
       "    .dataframe tbody tr th:only-of-type {\n",
       "        vertical-align: middle;\n",
       "    }\n",
       "\n",
       "    .dataframe tbody tr th {\n",
       "        vertical-align: top;\n",
       "    }\n",
       "\n",
       "    .dataframe thead th {\n",
       "        text-align: right;\n",
       "    }\n",
       "</style>\n",
       "<table border=\"1\" class=\"dataframe\">\n",
       "  <thead>\n",
       "    <tr style=\"text-align: right;\">\n",
       "      <th></th>\n",
       "      <th>Brand</th>\n",
       "      <th>Year</th>\n",
       "      <th>UsedOrNew</th>\n",
       "      <th>Transmission</th>\n",
       "      <th>DriveType</th>\n",
       "      <th>FuelType</th>\n",
       "      <th>Kilometres</th>\n",
       "      <th>BodyType</th>\n",
       "      <th>Doors</th>\n",
       "      <th>Seats</th>\n",
       "      <th>Price</th>\n",
       "      <th>Engine_cylinder_number</th>\n",
       "      <th>Engine_total_volume</th>\n",
       "      <th>ExteriorColour</th>\n",
       "      <th>fuel_comsumption_liter</th>\n",
       "      <th>fuel_comsumption_km</th>\n",
       "    </tr>\n",
       "  </thead>\n",
       "  <tbody>\n",
       "    <tr>\n",
       "      <th>0</th>\n",
       "      <td>Ssangyong</td>\n",
       "      <td>2022.0</td>\n",
       "      <td>DEMO</td>\n",
       "      <td>Automatic</td>\n",
       "      <td>AWD</td>\n",
       "      <td>Diesel</td>\n",
       "      <td>5595.0</td>\n",
       "      <td>SUV</td>\n",
       "      <td>4</td>\n",
       "      <td>7</td>\n",
       "      <td>51990.0</td>\n",
       "      <td>4</td>\n",
       "      <td>2.2</td>\n",
       "      <td>White</td>\n",
       "      <td>8.7</td>\n",
       "      <td>100.0</td>\n",
       "    </tr>\n",
       "    <tr>\n",
       "      <th>1</th>\n",
       "      <td>MG</td>\n",
       "      <td>2022.0</td>\n",
       "      <td>USED</td>\n",
       "      <td>Automatic</td>\n",
       "      <td>Front</td>\n",
       "      <td>Premium</td>\n",
       "      <td>16.0</td>\n",
       "      <td>Hatchback</td>\n",
       "      <td>5</td>\n",
       "      <td>5</td>\n",
       "      <td>19990.0</td>\n",
       "      <td>4</td>\n",
       "      <td>1.5</td>\n",
       "      <td>Black</td>\n",
       "      <td>6.7</td>\n",
       "      <td>100.0</td>\n",
       "    </tr>\n",
       "    <tr>\n",
       "      <th>2</th>\n",
       "      <td>BMW</td>\n",
       "      <td>2022.0</td>\n",
       "      <td>USED</td>\n",
       "      <td>Automatic</td>\n",
       "      <td>Rear</td>\n",
       "      <td>Premium</td>\n",
       "      <td>8472.0</td>\n",
       "      <td>Coupe</td>\n",
       "      <td>2</td>\n",
       "      <td>4</td>\n",
       "      <td>108988.0</td>\n",
       "      <td>4</td>\n",
       "      <td>2</td>\n",
       "      <td>Grey</td>\n",
       "      <td>6.6</td>\n",
       "      <td>100.0</td>\n",
       "    </tr>\n",
       "    <tr>\n",
       "      <th>3</th>\n",
       "      <td>Mercedes-Benz</td>\n",
       "      <td>2011.0</td>\n",
       "      <td>USED</td>\n",
       "      <td>Automatic</td>\n",
       "      <td>Rear</td>\n",
       "      <td>Premium</td>\n",
       "      <td>136517.0</td>\n",
       "      <td>Coupe</td>\n",
       "      <td>2</td>\n",
       "      <td>4</td>\n",
       "      <td>32990.0</td>\n",
       "      <td>8</td>\n",
       "      <td>5.5</td>\n",
       "      <td>White</td>\n",
       "      <td>11.0</td>\n",
       "      <td>100.0</td>\n",
       "    </tr>\n",
       "    <tr>\n",
       "      <th>4</th>\n",
       "      <td>Renault</td>\n",
       "      <td>2022.0</td>\n",
       "      <td>USED</td>\n",
       "      <td>Automatic</td>\n",
       "      <td>Front</td>\n",
       "      <td>Unleaded</td>\n",
       "      <td>1035.0</td>\n",
       "      <td>SUV</td>\n",
       "      <td>4</td>\n",
       "      <td>5</td>\n",
       "      <td>34990.0</td>\n",
       "      <td>4</td>\n",
       "      <td>1.3</td>\n",
       "      <td>Grey</td>\n",
       "      <td>6.0</td>\n",
       "      <td>100.0</td>\n",
       "    </tr>\n",
       "  </tbody>\n",
       "</table>\n",
       "</div>"
      ],
      "text/plain": [
       "           Brand    Year UsedOrNew Transmission DriveType  FuelType  \\\n",
       "0      Ssangyong  2022.0      DEMO    Automatic       AWD    Diesel   \n",
       "1             MG  2022.0      USED    Automatic     Front   Premium   \n",
       "2            BMW  2022.0      USED    Automatic      Rear   Premium   \n",
       "3  Mercedes-Benz  2011.0      USED    Automatic      Rear   Premium   \n",
       "4        Renault  2022.0      USED    Automatic     Front  Unleaded   \n",
       "\n",
       "   Kilometres   BodyType Doors Seats     Price Engine_cylinder_number  \\\n",
       "0      5595.0        SUV    4     7    51990.0                     4    \n",
       "1        16.0  Hatchback    5     5    19990.0                     4    \n",
       "2      8472.0      Coupe    2     4   108988.0                     4    \n",
       "3    136517.0      Coupe    2     4    32990.0                     8    \n",
       "4      1035.0        SUV    4     5    34990.0                     4    \n",
       "\n",
       "  Engine_total_volume ExteriorColour  fuel_comsumption_liter  \\\n",
       "0                2.2          White                      8.7   \n",
       "1                1.5          Black                      6.7   \n",
       "2                  2           Grey                      6.6   \n",
       "3                5.5          White                     11.0   \n",
       "4                1.3           Grey                      6.0   \n",
       "\n",
       "   fuel_comsumption_km  \n",
       "0                100.0  \n",
       "1                100.0  \n",
       "2                100.0  \n",
       "3                100.0  \n",
       "4                100.0  "
      ]
     },
     "execution_count": 28,
     "metadata": {},
     "output_type": "execute_result"
    }
   ],
   "source": [
    "df.head()"
   ]
  },
  {
   "cell_type": "markdown",
   "id": "c859e175-96e0-4c8d-b5a0-c2bd10089af7",
   "metadata": {},
   "source": [
    "# Deal with nan values"
   ]
  },
  {
   "cell_type": "code",
   "execution_count": 29,
   "id": "16bdd624-4bff-45ed-8254-717f06787e2b",
   "metadata": {},
   "outputs": [
    {
     "data": {
      "text/plain": [
       "Brand                      0.005976\n",
       "Year                       0.005976\n",
       "UsedOrNew                  0.005976\n",
       "Transmission               1.505916\n",
       "DriveType                  0.005976\n",
       "FuelType                   0.005976\n",
       "Kilometres                 3.537708\n",
       "BodyType                   1.685192\n",
       "Doors                     10.009561\n",
       "Seats                      9.764551\n",
       "Price                      0.316720\n",
       "Engine_cylinder_number    10.648978\n",
       "Engine_total_volume       10.654954\n",
       "ExteriorColour             0.005976\n",
       "fuel_comsumption_liter    10.147006\n",
       "fuel_comsumption_km       10.147006\n",
       "dtype: float64"
      ]
     },
     "execution_count": 29,
     "metadata": {},
     "output_type": "execute_result"
    }
   ],
   "source": [
    "# Find the percentage of nan value in each column\n",
    "df.isnull().sum()/df.shape[0]*100"
   ]
  },
  {
   "cell_type": "markdown",
   "id": "31dd749a",
   "metadata": {},
   "source": [
    "For numerical columns, we will use KNN to fill the Nan values, and for categorical columns we will use SimpleImputer with strategy 'most_frequent'."
   ]
  },
  {
   "cell_type": "code",
   "execution_count": 30,
   "id": "e8e1d97f-5aa1-437f-8fc2-0fc74542779f",
   "metadata": {},
   "outputs": [],
   "source": [
    "# Extract numerical columns from the DataFrame\n",
    "numerical_columns = df.select_dtypes(include=['number']).columns.tolist()\n",
    "# Create a DataFrame with only numerical columns\n",
    "numerical_df = df[numerical_columns]\n",
    "# Initialize a KNN imputer with 5 neighbors\n",
    "knnimputer = KNNImputer(n_neighbors=5)  \n",
    "# Apply the KNN imputer to the numerical DataFrame\n",
    "numerical_cln_df = knnimputer.fit_transform(numerical_df)  \n",
    "# Convert the imputed array back to a pandas DataFrame\n",
    "numerical_cln_df = pd.DataFrame(numerical_cln_df, columns=numerical_df.columns)\n",
    "\n",
    "# Extract categorical columns from the DataFrame\n",
    "categorical_columns = df.select_dtypes(include=['object']).columns.tolist()\n",
    "# Create a DataFrame with only categorical columns\n",
    "categorical_df = df[categorical_columns]\n",
    "# Initialize a simple imputer for categorical data using the most frequent strategy\n",
    "categorical_imputer = SimpleImputer(strategy='most_frequent')\n",
    "# Apply the simple imputer to the categorical DataFrame\n",
    "categorical_cln_df = pd.DataFrame(categorical_imputer.fit_transform(categorical_df), columns=categorical_df.columns)\n",
    "\n",
    "df=pd.merge(categorical_cln_df,numerical_cln_df,right_index=True,left_index=True)"
   ]
  },
  {
   "cell_type": "code",
   "execution_count": 31,
   "id": "5b13fc8a-954b-4063-9388-80f5bc141927",
   "metadata": {},
   "outputs": [
    {
     "data": {
      "text/plain": [
       "Brand                     0.0\n",
       "UsedOrNew                 0.0\n",
       "Transmission              0.0\n",
       "DriveType                 0.0\n",
       "FuelType                  0.0\n",
       "BodyType                  0.0\n",
       "Doors                     0.0\n",
       "Seats                     0.0\n",
       "Engine_cylinder_number    0.0\n",
       "Engine_total_volume       0.0\n",
       "ExteriorColour            0.0\n",
       "Year                      0.0\n",
       "Kilometres                0.0\n",
       "Price                     0.0\n",
       "fuel_comsumption_liter    0.0\n",
       "fuel_comsumption_km       0.0\n",
       "dtype: float64"
      ]
     },
     "execution_count": 31,
     "metadata": {},
     "output_type": "execute_result"
    }
   ],
   "source": [
    "df.isnull().sum()/df.shape[0]*100"
   ]
  },
  {
   "cell_type": "code",
   "execution_count": 32,
   "id": "edf7e8fd-05c8-4a56-8bc5-901ef88dedf0",
   "metadata": {},
   "outputs": [],
   "source": [
    "df['Year'] = df['Year'].astype(int)"
   ]
  },
  {
   "cell_type": "code",
   "execution_count": 33,
   "id": "c23a2b99-b863-4d51-8421-39f46d7fa189",
   "metadata": {},
   "outputs": [
    {
     "data": {
      "text/html": [
       "<div>\n",
       "<style scoped>\n",
       "    .dataframe tbody tr th:only-of-type {\n",
       "        vertical-align: middle;\n",
       "    }\n",
       "\n",
       "    .dataframe tbody tr th {\n",
       "        vertical-align: top;\n",
       "    }\n",
       "\n",
       "    .dataframe thead th {\n",
       "        text-align: right;\n",
       "    }\n",
       "</style>\n",
       "<table border=\"1\" class=\"dataframe\">\n",
       "  <thead>\n",
       "    <tr style=\"text-align: right;\">\n",
       "      <th></th>\n",
       "      <th>Brand</th>\n",
       "      <th>UsedOrNew</th>\n",
       "      <th>Transmission</th>\n",
       "      <th>DriveType</th>\n",
       "      <th>FuelType</th>\n",
       "      <th>BodyType</th>\n",
       "      <th>Doors</th>\n",
       "      <th>Seats</th>\n",
       "      <th>Engine_cylinder_number</th>\n",
       "      <th>Engine_total_volume</th>\n",
       "      <th>ExteriorColour</th>\n",
       "      <th>Year</th>\n",
       "      <th>Kilometres</th>\n",
       "      <th>Price</th>\n",
       "      <th>fuel_comsumption_liter</th>\n",
       "      <th>fuel_comsumption_km</th>\n",
       "    </tr>\n",
       "  </thead>\n",
       "  <tbody>\n",
       "    <tr>\n",
       "      <th>13348</th>\n",
       "      <td>Ford</td>\n",
       "      <td>USED</td>\n",
       "      <td>Automatic</td>\n",
       "      <td>Rear</td>\n",
       "      <td>Premium</td>\n",
       "      <td>Hatchback</td>\n",
       "      <td>2</td>\n",
       "      <td>4</td>\n",
       "      <td>8</td>\n",
       "      <td>5</td>\n",
       "      <td>White</td>\n",
       "      <td>2020</td>\n",
       "      <td>11156.0</td>\n",
       "      <td>89999.0</td>\n",
       "      <td>12.7</td>\n",
       "      <td>100.0</td>\n",
       "    </tr>\n",
       "    <tr>\n",
       "      <th>16073</th>\n",
       "      <td>Mazda</td>\n",
       "      <td>DEMO</td>\n",
       "      <td>Automatic</td>\n",
       "      <td>Front</td>\n",
       "      <td>Unleaded</td>\n",
       "      <td>SUV</td>\n",
       "      <td>4</td>\n",
       "      <td>5</td>\n",
       "      <td>4</td>\n",
       "      <td>2.5</td>\n",
       "      <td>Red</td>\n",
       "      <td>2022</td>\n",
       "      <td>12.0</td>\n",
       "      <td>43771.0</td>\n",
       "      <td>7.5</td>\n",
       "      <td>100.0</td>\n",
       "    </tr>\n",
       "    <tr>\n",
       "      <th>8476</th>\n",
       "      <td>Holden</td>\n",
       "      <td>USED</td>\n",
       "      <td>Automatic</td>\n",
       "      <td>Rear</td>\n",
       "      <td>Unleaded</td>\n",
       "      <td>Ute  Tray</td>\n",
       "      <td>2</td>\n",
       "      <td>2</td>\n",
       "      <td>8</td>\n",
       "      <td>6</td>\n",
       "      <td>Black</td>\n",
       "      <td>2014</td>\n",
       "      <td>169730.0</td>\n",
       "      <td>35990.0</td>\n",
       "      <td>11.5</td>\n",
       "      <td>100.0</td>\n",
       "    </tr>\n",
       "    <tr>\n",
       "      <th>701</th>\n",
       "      <td>MG</td>\n",
       "      <td>NEW</td>\n",
       "      <td>Automatic</td>\n",
       "      <td>Front</td>\n",
       "      <td>Other</td>\n",
       "      <td>SUV</td>\n",
       "      <td>5</td>\n",
       "      <td>5</td>\n",
       "      <td>3</td>\n",
       "      <td>1.3</td>\n",
       "      <td>Red</td>\n",
       "      <td>2023</td>\n",
       "      <td>15.0</td>\n",
       "      <td>35690.0</td>\n",
       "      <td>7.3</td>\n",
       "      <td>100.0</td>\n",
       "    </tr>\n",
       "    <tr>\n",
       "      <th>12007</th>\n",
       "      <td>Mitsubishi</td>\n",
       "      <td>USED</td>\n",
       "      <td>Automatic</td>\n",
       "      <td>4WD</td>\n",
       "      <td>Diesel</td>\n",
       "      <td>Ute  Tray</td>\n",
       "      <td>4</td>\n",
       "      <td>5</td>\n",
       "      <td>4</td>\n",
       "      <td>2.5</td>\n",
       "      <td>Grey</td>\n",
       "      <td>2012</td>\n",
       "      <td>211658.0</td>\n",
       "      <td>19990.0</td>\n",
       "      <td>9.9</td>\n",
       "      <td>100.0</td>\n",
       "    </tr>\n",
       "    <tr>\n",
       "      <th>4036</th>\n",
       "      <td>Kia</td>\n",
       "      <td>USED</td>\n",
       "      <td>Automatic</td>\n",
       "      <td>Front</td>\n",
       "      <td>Unleaded</td>\n",
       "      <td>Hatchback</td>\n",
       "      <td>5</td>\n",
       "      <td>5</td>\n",
       "      <td>4</td>\n",
       "      <td>1.8</td>\n",
       "      <td>White</td>\n",
       "      <td>2016</td>\n",
       "      <td>107811.0</td>\n",
       "      <td>18880.0</td>\n",
       "      <td>7.1</td>\n",
       "      <td>100.0</td>\n",
       "    </tr>\n",
       "    <tr>\n",
       "      <th>11430</th>\n",
       "      <td>Holden</td>\n",
       "      <td>USED</td>\n",
       "      <td>Automatic</td>\n",
       "      <td>Front</td>\n",
       "      <td>Unleaded</td>\n",
       "      <td>SUV</td>\n",
       "      <td>4</td>\n",
       "      <td>7</td>\n",
       "      <td>6</td>\n",
       "      <td>3.6</td>\n",
       "      <td>White</td>\n",
       "      <td>2019</td>\n",
       "      <td>47728.0</td>\n",
       "      <td>42990.0</td>\n",
       "      <td>8.9</td>\n",
       "      <td>100.0</td>\n",
       "    </tr>\n",
       "    <tr>\n",
       "      <th>3985</th>\n",
       "      <td>GWM</td>\n",
       "      <td>NEW</td>\n",
       "      <td>Automatic</td>\n",
       "      <td>Front</td>\n",
       "      <td>Premium</td>\n",
       "      <td>SUV</td>\n",
       "      <td>4</td>\n",
       "      <td>5</td>\n",
       "      <td>4</td>\n",
       "      <td>1.5</td>\n",
       "      <td>White</td>\n",
       "      <td>2023</td>\n",
       "      <td>7.0</td>\n",
       "      <td>33990.0</td>\n",
       "      <td>8.1</td>\n",
       "      <td>100.0</td>\n",
       "    </tr>\n",
       "    <tr>\n",
       "      <th>3375</th>\n",
       "      <td>Nissan</td>\n",
       "      <td>USED</td>\n",
       "      <td>Automatic</td>\n",
       "      <td>4WD</td>\n",
       "      <td>Unleaded</td>\n",
       "      <td>SUV</td>\n",
       "      <td>4</td>\n",
       "      <td>7</td>\n",
       "      <td>6</td>\n",
       "      <td>4.5</td>\n",
       "      <td>Green</td>\n",
       "      <td>2001</td>\n",
       "      <td>156956.0</td>\n",
       "      <td>16990.0</td>\n",
       "      <td>0.0</td>\n",
       "      <td>100.0</td>\n",
       "    </tr>\n",
       "    <tr>\n",
       "      <th>7588</th>\n",
       "      <td>Toyota</td>\n",
       "      <td>USED</td>\n",
       "      <td>Automatic</td>\n",
       "      <td>Rear</td>\n",
       "      <td>Premium</td>\n",
       "      <td>Coupe</td>\n",
       "      <td>2</td>\n",
       "      <td>2</td>\n",
       "      <td>6</td>\n",
       "      <td>3</td>\n",
       "      <td>Grey</td>\n",
       "      <td>2022</td>\n",
       "      <td>15483.0</td>\n",
       "      <td>95888.0</td>\n",
       "      <td>7.7</td>\n",
       "      <td>100.0</td>\n",
       "    </tr>\n",
       "  </tbody>\n",
       "</table>\n",
       "</div>"
      ],
      "text/plain": [
       "            Brand UsedOrNew Transmission DriveType  FuelType   BodyType Doors  \\\n",
       "13348        Ford      USED    Automatic      Rear   Premium  Hatchback    2    \n",
       "16073       Mazda      DEMO    Automatic     Front  Unleaded        SUV    4    \n",
       "8476       Holden      USED    Automatic      Rear  Unleaded  Ute  Tray    2    \n",
       "701            MG       NEW    Automatic     Front     Other        SUV    5    \n",
       "12007  Mitsubishi      USED    Automatic       4WD    Diesel  Ute  Tray    4    \n",
       "4036          Kia      USED    Automatic     Front  Unleaded  Hatchback    5    \n",
       "11430      Holden      USED    Automatic     Front  Unleaded        SUV    4    \n",
       "3985          GWM       NEW    Automatic     Front   Premium        SUV    4    \n",
       "3375       Nissan      USED    Automatic       4WD  Unleaded        SUV    4    \n",
       "7588       Toyota      USED    Automatic      Rear   Premium      Coupe    2    \n",
       "\n",
       "      Seats Engine_cylinder_number Engine_total_volume ExteriorColour  Year  \\\n",
       "13348    4                      8                   5          White   2020   \n",
       "16073    5                      4                 2.5            Red   2022   \n",
       "8476     2                      8                   6          Black   2014   \n",
       "701      5                      3                 1.3            Red   2023   \n",
       "12007    5                      4                 2.5           Grey   2012   \n",
       "4036     5                      4                 1.8          White   2016   \n",
       "11430    7                      6                 3.6          White   2019   \n",
       "3985     5                      4                 1.5          White   2023   \n",
       "3375     7                      6                 4.5          Green   2001   \n",
       "7588     2                      6                   3           Grey   2022   \n",
       "\n",
       "       Kilometres    Price  fuel_comsumption_liter  fuel_comsumption_km  \n",
       "13348     11156.0  89999.0                    12.7                100.0  \n",
       "16073        12.0  43771.0                     7.5                100.0  \n",
       "8476     169730.0  35990.0                    11.5                100.0  \n",
       "701          15.0  35690.0                     7.3                100.0  \n",
       "12007    211658.0  19990.0                     9.9                100.0  \n",
       "4036     107811.0  18880.0                     7.1                100.0  \n",
       "11430     47728.0  42990.0                     8.9                100.0  \n",
       "3985          7.0  33990.0                     8.1                100.0  \n",
       "3375     156956.0  16990.0                     0.0                100.0  \n",
       "7588      15483.0  95888.0                     7.7                100.0  "
      ]
     },
     "execution_count": 33,
     "metadata": {},
     "output_type": "execute_result"
    }
   ],
   "source": [
    "df.sample(10)"
   ]
  },
  {
   "cell_type": "code",
   "execution_count": 34,
   "id": "9b804f96-1e3d-4ddc-8a2a-e0c444e99bd9",
   "metadata": {},
   "outputs": [
    {
     "ename": "OSError",
     "evalue": "Cannot save file into a non-existent directory: 'data'",
     "output_type": "error",
     "traceback": [
      "\u001b[0;31m---------------------------------------------------------------------------\u001b[0m",
      "\u001b[0;31mOSError\u001b[0m                                   Traceback (most recent call last)",
      "Cell \u001b[0;32mIn[34], line 1\u001b[0m\n\u001b[0;32m----> 1\u001b[0m \u001b[43mdf\u001b[49m\u001b[38;5;241;43m.\u001b[39;49m\u001b[43mto_csv\u001b[49m\u001b[43m(\u001b[49m\u001b[38;5;124;43m'\u001b[39;49m\u001b[38;5;124;43mdata/preprocessed_data.csv\u001b[39;49m\u001b[38;5;124;43m'\u001b[39;49m\u001b[43m,\u001b[49m\u001b[43m \u001b[49m\u001b[43mindex\u001b[49m\u001b[38;5;241;43m=\u001b[39;49m\u001b[38;5;28;43;01mFalse\u001b[39;49;00m\u001b[43m)\u001b[49m\n",
      "File \u001b[0;32m~/miniconda3/envs/563/lib/python3.11/site-packages/pandas/util/_decorators.py:333\u001b[0m, in \u001b[0;36mdeprecate_nonkeyword_arguments.<locals>.decorate.<locals>.wrapper\u001b[0;34m(*args, **kwargs)\u001b[0m\n\u001b[1;32m    327\u001b[0m \u001b[38;5;28;01mif\u001b[39;00m \u001b[38;5;28mlen\u001b[39m(args) \u001b[38;5;241m>\u001b[39m num_allow_args:\n\u001b[1;32m    328\u001b[0m     warnings\u001b[38;5;241m.\u001b[39mwarn(\n\u001b[1;32m    329\u001b[0m         msg\u001b[38;5;241m.\u001b[39mformat(arguments\u001b[38;5;241m=\u001b[39m_format_argument_list(allow_args)),\n\u001b[1;32m    330\u001b[0m         \u001b[38;5;167;01mFutureWarning\u001b[39;00m,\n\u001b[1;32m    331\u001b[0m         stacklevel\u001b[38;5;241m=\u001b[39mfind_stack_level(),\n\u001b[1;32m    332\u001b[0m     )\n\u001b[0;32m--> 333\u001b[0m \u001b[38;5;28;01mreturn\u001b[39;00m \u001b[43mfunc\u001b[49m\u001b[43m(\u001b[49m\u001b[38;5;241;43m*\u001b[39;49m\u001b[43margs\u001b[49m\u001b[43m,\u001b[49m\u001b[43m \u001b[49m\u001b[38;5;241;43m*\u001b[39;49m\u001b[38;5;241;43m*\u001b[39;49m\u001b[43mkwargs\u001b[49m\u001b[43m)\u001b[49m\n",
      "File \u001b[0;32m~/miniconda3/envs/563/lib/python3.11/site-packages/pandas/core/generic.py:3961\u001b[0m, in \u001b[0;36mNDFrame.to_csv\u001b[0;34m(self, path_or_buf, sep, na_rep, float_format, columns, header, index, index_label, mode, encoding, compression, quoting, quotechar, lineterminator, chunksize, date_format, doublequote, escapechar, decimal, errors, storage_options)\u001b[0m\n\u001b[1;32m   3950\u001b[0m df \u001b[38;5;241m=\u001b[39m \u001b[38;5;28mself\u001b[39m \u001b[38;5;28;01mif\u001b[39;00m \u001b[38;5;28misinstance\u001b[39m(\u001b[38;5;28mself\u001b[39m, ABCDataFrame) \u001b[38;5;28;01melse\u001b[39;00m \u001b[38;5;28mself\u001b[39m\u001b[38;5;241m.\u001b[39mto_frame()\n\u001b[1;32m   3952\u001b[0m formatter \u001b[38;5;241m=\u001b[39m DataFrameFormatter(\n\u001b[1;32m   3953\u001b[0m     frame\u001b[38;5;241m=\u001b[39mdf,\n\u001b[1;32m   3954\u001b[0m     header\u001b[38;5;241m=\u001b[39mheader,\n\u001b[0;32m   (...)\u001b[0m\n\u001b[1;32m   3958\u001b[0m     decimal\u001b[38;5;241m=\u001b[39mdecimal,\n\u001b[1;32m   3959\u001b[0m )\n\u001b[0;32m-> 3961\u001b[0m \u001b[38;5;28;01mreturn\u001b[39;00m \u001b[43mDataFrameRenderer\u001b[49m\u001b[43m(\u001b[49m\u001b[43mformatter\u001b[49m\u001b[43m)\u001b[49m\u001b[38;5;241;43m.\u001b[39;49m\u001b[43mto_csv\u001b[49m\u001b[43m(\u001b[49m\n\u001b[1;32m   3962\u001b[0m \u001b[43m    \u001b[49m\u001b[43mpath_or_buf\u001b[49m\u001b[43m,\u001b[49m\n\u001b[1;32m   3963\u001b[0m \u001b[43m    \u001b[49m\u001b[43mlineterminator\u001b[49m\u001b[38;5;241;43m=\u001b[39;49m\u001b[43mlineterminator\u001b[49m\u001b[43m,\u001b[49m\n\u001b[1;32m   3964\u001b[0m \u001b[43m    \u001b[49m\u001b[43msep\u001b[49m\u001b[38;5;241;43m=\u001b[39;49m\u001b[43msep\u001b[49m\u001b[43m,\u001b[49m\n\u001b[1;32m   3965\u001b[0m \u001b[43m    \u001b[49m\u001b[43mencoding\u001b[49m\u001b[38;5;241;43m=\u001b[39;49m\u001b[43mencoding\u001b[49m\u001b[43m,\u001b[49m\n\u001b[1;32m   3966\u001b[0m \u001b[43m    \u001b[49m\u001b[43merrors\u001b[49m\u001b[38;5;241;43m=\u001b[39;49m\u001b[43merrors\u001b[49m\u001b[43m,\u001b[49m\n\u001b[1;32m   3967\u001b[0m \u001b[43m    \u001b[49m\u001b[43mcompression\u001b[49m\u001b[38;5;241;43m=\u001b[39;49m\u001b[43mcompression\u001b[49m\u001b[43m,\u001b[49m\n\u001b[1;32m   3968\u001b[0m \u001b[43m    \u001b[49m\u001b[43mquoting\u001b[49m\u001b[38;5;241;43m=\u001b[39;49m\u001b[43mquoting\u001b[49m\u001b[43m,\u001b[49m\n\u001b[1;32m   3969\u001b[0m \u001b[43m    \u001b[49m\u001b[43mcolumns\u001b[49m\u001b[38;5;241;43m=\u001b[39;49m\u001b[43mcolumns\u001b[49m\u001b[43m,\u001b[49m\n\u001b[1;32m   3970\u001b[0m \u001b[43m    \u001b[49m\u001b[43mindex_label\u001b[49m\u001b[38;5;241;43m=\u001b[39;49m\u001b[43mindex_label\u001b[49m\u001b[43m,\u001b[49m\n\u001b[1;32m   3971\u001b[0m \u001b[43m    \u001b[49m\u001b[43mmode\u001b[49m\u001b[38;5;241;43m=\u001b[39;49m\u001b[43mmode\u001b[49m\u001b[43m,\u001b[49m\n\u001b[1;32m   3972\u001b[0m \u001b[43m    \u001b[49m\u001b[43mchunksize\u001b[49m\u001b[38;5;241;43m=\u001b[39;49m\u001b[43mchunksize\u001b[49m\u001b[43m,\u001b[49m\n\u001b[1;32m   3973\u001b[0m \u001b[43m    \u001b[49m\u001b[43mquotechar\u001b[49m\u001b[38;5;241;43m=\u001b[39;49m\u001b[43mquotechar\u001b[49m\u001b[43m,\u001b[49m\n\u001b[1;32m   3974\u001b[0m \u001b[43m    \u001b[49m\u001b[43mdate_format\u001b[49m\u001b[38;5;241;43m=\u001b[39;49m\u001b[43mdate_format\u001b[49m\u001b[43m,\u001b[49m\n\u001b[1;32m   3975\u001b[0m \u001b[43m    \u001b[49m\u001b[43mdoublequote\u001b[49m\u001b[38;5;241;43m=\u001b[39;49m\u001b[43mdoublequote\u001b[49m\u001b[43m,\u001b[49m\n\u001b[1;32m   3976\u001b[0m \u001b[43m    \u001b[49m\u001b[43mescapechar\u001b[49m\u001b[38;5;241;43m=\u001b[39;49m\u001b[43mescapechar\u001b[49m\u001b[43m,\u001b[49m\n\u001b[1;32m   3977\u001b[0m \u001b[43m    \u001b[49m\u001b[43mstorage_options\u001b[49m\u001b[38;5;241;43m=\u001b[39;49m\u001b[43mstorage_options\u001b[49m\u001b[43m,\u001b[49m\n\u001b[1;32m   3978\u001b[0m \u001b[43m\u001b[49m\u001b[43m)\u001b[49m\n",
      "File \u001b[0;32m~/miniconda3/envs/563/lib/python3.11/site-packages/pandas/io/formats/format.py:1014\u001b[0m, in \u001b[0;36mDataFrameRenderer.to_csv\u001b[0;34m(self, path_or_buf, encoding, sep, columns, index_label, mode, compression, quoting, quotechar, lineterminator, chunksize, date_format, doublequote, escapechar, errors, storage_options)\u001b[0m\n\u001b[1;32m    993\u001b[0m     created_buffer \u001b[38;5;241m=\u001b[39m \u001b[38;5;28;01mFalse\u001b[39;00m\n\u001b[1;32m    995\u001b[0m csv_formatter \u001b[38;5;241m=\u001b[39m CSVFormatter(\n\u001b[1;32m    996\u001b[0m     path_or_buf\u001b[38;5;241m=\u001b[39mpath_or_buf,\n\u001b[1;32m    997\u001b[0m     lineterminator\u001b[38;5;241m=\u001b[39mlineterminator,\n\u001b[0;32m   (...)\u001b[0m\n\u001b[1;32m   1012\u001b[0m     formatter\u001b[38;5;241m=\u001b[39m\u001b[38;5;28mself\u001b[39m\u001b[38;5;241m.\u001b[39mfmt,\n\u001b[1;32m   1013\u001b[0m )\n\u001b[0;32m-> 1014\u001b[0m \u001b[43mcsv_formatter\u001b[49m\u001b[38;5;241;43m.\u001b[39;49m\u001b[43msave\u001b[49m\u001b[43m(\u001b[49m\u001b[43m)\u001b[49m\n\u001b[1;32m   1016\u001b[0m \u001b[38;5;28;01mif\u001b[39;00m created_buffer:\n\u001b[1;32m   1017\u001b[0m     \u001b[38;5;28;01massert\u001b[39;00m \u001b[38;5;28misinstance\u001b[39m(path_or_buf, StringIO)\n",
      "File \u001b[0;32m~/miniconda3/envs/563/lib/python3.11/site-packages/pandas/io/formats/csvs.py:251\u001b[0m, in \u001b[0;36mCSVFormatter.save\u001b[0;34m(self)\u001b[0m\n\u001b[1;32m    247\u001b[0m \u001b[38;5;250m\u001b[39m\u001b[38;5;124;03m\"\"\"\u001b[39;00m\n\u001b[1;32m    248\u001b[0m \u001b[38;5;124;03mCreate the writer & save.\u001b[39;00m\n\u001b[1;32m    249\u001b[0m \u001b[38;5;124;03m\"\"\"\u001b[39;00m\n\u001b[1;32m    250\u001b[0m \u001b[38;5;66;03m# apply compression and byte/text conversion\u001b[39;00m\n\u001b[0;32m--> 251\u001b[0m \u001b[38;5;28;01mwith\u001b[39;00m \u001b[43mget_handle\u001b[49m\u001b[43m(\u001b[49m\n\u001b[1;32m    252\u001b[0m \u001b[43m    \u001b[49m\u001b[38;5;28;43mself\u001b[39;49m\u001b[38;5;241;43m.\u001b[39;49m\u001b[43mfilepath_or_buffer\u001b[49m\u001b[43m,\u001b[49m\n\u001b[1;32m    253\u001b[0m \u001b[43m    \u001b[49m\u001b[38;5;28;43mself\u001b[39;49m\u001b[38;5;241;43m.\u001b[39;49m\u001b[43mmode\u001b[49m\u001b[43m,\u001b[49m\n\u001b[1;32m    254\u001b[0m \u001b[43m    \u001b[49m\u001b[43mencoding\u001b[49m\u001b[38;5;241;43m=\u001b[39;49m\u001b[38;5;28;43mself\u001b[39;49m\u001b[38;5;241;43m.\u001b[39;49m\u001b[43mencoding\u001b[49m\u001b[43m,\u001b[49m\n\u001b[1;32m    255\u001b[0m \u001b[43m    \u001b[49m\u001b[43merrors\u001b[49m\u001b[38;5;241;43m=\u001b[39;49m\u001b[38;5;28;43mself\u001b[39;49m\u001b[38;5;241;43m.\u001b[39;49m\u001b[43merrors\u001b[49m\u001b[43m,\u001b[49m\n\u001b[1;32m    256\u001b[0m \u001b[43m    \u001b[49m\u001b[43mcompression\u001b[49m\u001b[38;5;241;43m=\u001b[39;49m\u001b[38;5;28;43mself\u001b[39;49m\u001b[38;5;241;43m.\u001b[39;49m\u001b[43mcompression\u001b[49m\u001b[43m,\u001b[49m\n\u001b[1;32m    257\u001b[0m \u001b[43m    \u001b[49m\u001b[43mstorage_options\u001b[49m\u001b[38;5;241;43m=\u001b[39;49m\u001b[38;5;28;43mself\u001b[39;49m\u001b[38;5;241;43m.\u001b[39;49m\u001b[43mstorage_options\u001b[49m\u001b[43m,\u001b[49m\n\u001b[1;32m    258\u001b[0m \u001b[43m\u001b[49m\u001b[43m)\u001b[49m \u001b[38;5;28;01mas\u001b[39;00m handles:\n\u001b[1;32m    259\u001b[0m     \u001b[38;5;66;03m# Note: self.encoding is irrelevant here\u001b[39;00m\n\u001b[1;32m    260\u001b[0m     \u001b[38;5;28mself\u001b[39m\u001b[38;5;241m.\u001b[39mwriter \u001b[38;5;241m=\u001b[39m csvlib\u001b[38;5;241m.\u001b[39mwriter(\n\u001b[1;32m    261\u001b[0m         handles\u001b[38;5;241m.\u001b[39mhandle,\n\u001b[1;32m    262\u001b[0m         lineterminator\u001b[38;5;241m=\u001b[39m\u001b[38;5;28mself\u001b[39m\u001b[38;5;241m.\u001b[39mlineterminator,\n\u001b[0;32m   (...)\u001b[0m\n\u001b[1;32m    267\u001b[0m         quotechar\u001b[38;5;241m=\u001b[39m\u001b[38;5;28mself\u001b[39m\u001b[38;5;241m.\u001b[39mquotechar,\n\u001b[1;32m    268\u001b[0m     )\n\u001b[1;32m    270\u001b[0m     \u001b[38;5;28mself\u001b[39m\u001b[38;5;241m.\u001b[39m_save()\n",
      "File \u001b[0;32m~/miniconda3/envs/563/lib/python3.11/site-packages/pandas/io/common.py:749\u001b[0m, in \u001b[0;36mget_handle\u001b[0;34m(path_or_buf, mode, encoding, compression, memory_map, is_text, errors, storage_options)\u001b[0m\n\u001b[1;32m    747\u001b[0m \u001b[38;5;66;03m# Only for write methods\u001b[39;00m\n\u001b[1;32m    748\u001b[0m \u001b[38;5;28;01mif\u001b[39;00m \u001b[38;5;124m\"\u001b[39m\u001b[38;5;124mr\u001b[39m\u001b[38;5;124m\"\u001b[39m \u001b[38;5;129;01mnot\u001b[39;00m \u001b[38;5;129;01min\u001b[39;00m mode \u001b[38;5;129;01mand\u001b[39;00m is_path:\n\u001b[0;32m--> 749\u001b[0m     \u001b[43mcheck_parent_directory\u001b[49m\u001b[43m(\u001b[49m\u001b[38;5;28;43mstr\u001b[39;49m\u001b[43m(\u001b[49m\u001b[43mhandle\u001b[49m\u001b[43m)\u001b[49m\u001b[43m)\u001b[49m\n\u001b[1;32m    751\u001b[0m \u001b[38;5;28;01mif\u001b[39;00m compression:\n\u001b[1;32m    752\u001b[0m     \u001b[38;5;28;01mif\u001b[39;00m compression \u001b[38;5;241m!=\u001b[39m \u001b[38;5;124m\"\u001b[39m\u001b[38;5;124mzstd\u001b[39m\u001b[38;5;124m\"\u001b[39m:\n\u001b[1;32m    753\u001b[0m         \u001b[38;5;66;03m# compression libraries do not like an explicit text-mode\u001b[39;00m\n",
      "File \u001b[0;32m~/miniconda3/envs/563/lib/python3.11/site-packages/pandas/io/common.py:616\u001b[0m, in \u001b[0;36mcheck_parent_directory\u001b[0;34m(path)\u001b[0m\n\u001b[1;32m    614\u001b[0m parent \u001b[38;5;241m=\u001b[39m Path(path)\u001b[38;5;241m.\u001b[39mparent\n\u001b[1;32m    615\u001b[0m \u001b[38;5;28;01mif\u001b[39;00m \u001b[38;5;129;01mnot\u001b[39;00m parent\u001b[38;5;241m.\u001b[39mis_dir():\n\u001b[0;32m--> 616\u001b[0m     \u001b[38;5;28;01mraise\u001b[39;00m \u001b[38;5;167;01mOSError\u001b[39;00m(\u001b[38;5;124mrf\u001b[39m\u001b[38;5;124m\"\u001b[39m\u001b[38;5;124mCannot save file into a non-existent directory: \u001b[39m\u001b[38;5;124m'\u001b[39m\u001b[38;5;132;01m{\u001b[39;00mparent\u001b[38;5;132;01m}\u001b[39;00m\u001b[38;5;124m'\u001b[39m\u001b[38;5;124m\"\u001b[39m)\n",
      "\u001b[0;31mOSError\u001b[0m: Cannot save file into a non-existent directory: 'data'"
     ]
    }
   ],
   "source": [
    "df.to_csv('data/preprocessed_data.csv', index=False)"
   ]
  }
 ],
 "metadata": {
  "kernelspec": {
   "display_name": "dsci572",
   "language": "python",
   "name": "python3"
  },
  "language_info": {
   "codemirror_mode": {
    "name": "ipython",
    "version": 3
   },
   "file_extension": ".py",
   "mimetype": "text/x-python",
   "name": "python",
   "nbconvert_exporter": "python",
   "pygments_lexer": "ipython3",
   "version": "3.11.7"
  }
 },
 "nbformat": 4,
 "nbformat_minor": 5
}
